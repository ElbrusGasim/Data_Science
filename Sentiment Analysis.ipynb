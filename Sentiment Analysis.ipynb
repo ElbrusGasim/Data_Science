{
 "cells": [
  {
   "cell_type": "code",
   "execution_count": 1,
   "metadata": {},
   "outputs": [],
   "source": [
    "x = 9\n"
   ]
  },
  {
   "cell_type": "code",
   "execution_count": 2,
   "metadata": {},
   "outputs": [],
   "source": [
    "term = 45"
   ]
  },
  {
   "cell_type": "code",
   "execution_count": 3,
   "metadata": {},
   "outputs": [],
   "source": [
    "import pandas as pd"
   ]
  },
  {
   "attachments": {},
   "cell_type": "markdown",
   "metadata": {},
   "source": [
    "Importing Necessary Libraries "
   ]
  },
  {
   "cell_type": "code",
   "execution_count": 6,
   "metadata": {},
   "outputs": [],
   "source": [
    "import tweepy,re\n",
    "from textblob import TextBlob\n",
    "import matplotlib.pyplot as plt\n",
    "import pandas as pd\n",
    "from nltk.tokenize import word_tokenize\n",
    "from nltk.stem import WordNetLemmatizer\n",
    "from nltk.corpus import stopwords"
   ]
  },
  {
   "cell_type": "code",
   "execution_count": 7,
   "metadata": {},
   "outputs": [],
   "source": [
    "# authentication\n",
    "# these are my credentials for authentication from developers app(https://developer.twitter.com/en/portal/projects/1496233127722860552/apps/23469414/keys)\n",
    "consumerKey = 'Xd8sONHrOM0iEq98zx7MKGoU2'\n",
    "consumerSecret = 'XTC374wBkLPjPFvCsXDgOfbBl9njwOPQ3l0Dbq2CF34ust5J8s'\n",
    "accessToken = '1490710778860777474-IStEjWn7Vkqavam06SbkgyoITz83l2'\n",
    "accessTokenSecret = 'fFvlUuROEBJBBtTNhIZCZ8LlXAneDvIRHMnp8CFRTZFiK'\n",
    "auth = tweepy.OAuthHandler(consumerKey, consumerSecret)\n",
    "auth.set_access_token(accessToken, accessTokenSecret)\n",
    "api = tweepy.API(auth)"
   ]
  },
  {
   "cell_type": "code",
   "execution_count": 8,
   "metadata": {},
   "outputs": [],
   "source": [
    "# input for term to be searched and how many tweets to search\n",
    "searchTerm = input(\"Enter Keyword/Tag to search about: \")\n",
    "NoOfTerms = int(input(\"Enter how many tweets to search: \"))\n",
    "\n",
    "tweets = []\n",
    "tweetText = []\n",
    "# searching for tweets\n",
    "tweets = tweepy.Cursor(api.search_tweets, q=searchTerm+\" -filter:retweets\", lang = \"en\").items(NoOfTerms)"
   ]
  },
  {
   "cell_type": "code",
   "execution_count": 9,
   "metadata": {},
   "outputs": [
    {
     "data": {
      "text/html": [
       "<div>\n",
       "<style scoped>\n",
       "    .dataframe tbody tr th:only-of-type {\n",
       "        vertical-align: middle;\n",
       "    }\n",
       "\n",
       "    .dataframe tbody tr th {\n",
       "        vertical-align: top;\n",
       "    }\n",
       "\n",
       "    .dataframe thead th {\n",
       "        text-align: right;\n",
       "    }\n",
       "</style>\n",
       "<table border=\"1\" class=\"dataframe\">\n",
       "  <thead>\n",
       "    <tr style=\"text-align: right;\">\n",
       "      <th></th>\n",
       "      <th>0</th>\n",
       "    </tr>\n",
       "  </thead>\n",
       "  <tbody>\n",
       "    <tr>\n",
       "      <th>0</th>\n",
       "      <td>An 88/100 for Geology\\n\\nThis is one of those ...</td>\n",
       "    </tr>\n",
       "    <tr>\n",
       "      <th>1</th>\n",
       "      <td>@ThunderInvest @Ceecee_Freedmen @_SJPeace_ You...</td>\n",
       "    </tr>\n",
       "    <tr>\n",
       "      <th>2</th>\n",
       "      <td>@ScottAdamsSays @Foldinginwards However, if a ...</td>\n",
       "    </tr>\n",
       "    <tr>\n",
       "      <th>3</th>\n",
       "      <td>@anakinsmybf @chaiteacookie YES, BECAUSE IM NO...</td>\n",
       "    </tr>\n",
       "    <tr>\n",
       "      <th>4</th>\n",
       "      <td>100 years ago today. Hat tip to SAADA (S. Asia...</td>\n",
       "    </tr>\n",
       "    <tr>\n",
       "      <th>...</th>\n",
       "      <td>...</td>\n",
       "    </tr>\n",
       "    <tr>\n",
       "      <th>995</th>\n",
       "      <td>@tommywang3e @Jfromm1968_CRTD I see but there ...</td>\n",
       "    </tr>\n",
       "    <tr>\n",
       "      <th>996</th>\n",
       "      <td>@Techken_Tiff Nope! Now if it was finger tip e...</td>\n",
       "    </tr>\n",
       "    <tr>\n",
       "      <th>997</th>\n",
       "      <td>I legit hate the whole sneaker market now beca...</td>\n",
       "    </tr>\n",
       "    <tr>\n",
       "      <th>998</th>\n",
       "      <td>@ask_aubry Wait - he can't cover $100, what a ...</td>\n",
       "    </tr>\n",
       "    <tr>\n",
       "      <th>999</th>\n",
       "      <td>@PsychoSaikou I’m pretty sure I saw lumi and B...</td>\n",
       "    </tr>\n",
       "  </tbody>\n",
       "</table>\n",
       "<p>1000 rows × 1 columns</p>\n",
       "</div>"
      ],
      "text/plain": [
       "                                                     0\n",
       "0    An 88/100 for Geology\\n\\nThis is one of those ...\n",
       "1    @ThunderInvest @Ceecee_Freedmen @_SJPeace_ You...\n",
       "2    @ScottAdamsSays @Foldinginwards However, if a ...\n",
       "3    @anakinsmybf @chaiteacookie YES, BECAUSE IM NO...\n",
       "4    100 years ago today. Hat tip to SAADA (S. Asia...\n",
       "..                                                 ...\n",
       "995  @tommywang3e @Jfromm1968_CRTD I see but there ...\n",
       "996  @Techken_Tiff Nope! Now if it was finger tip e...\n",
       "997  I legit hate the whole sneaker market now beca...\n",
       "998  @ask_aubry Wait - he can't cover $100, what a ...\n",
       "999  @PsychoSaikou I’m pretty sure I saw lumi and B...\n",
       "\n",
       "[1000 rows x 1 columns]"
      ]
     },
     "execution_count": 9,
     "metadata": {},
     "output_type": "execute_result"
    }
   ],
   "source": [
    "tweet_list = [tweet.text for tweet in tweets]\n",
    "tweet_df = pd.DataFrame(tweet_list)\n",
    "tweet_df"
   ]
  },
  {
   "cell_type": "code",
   "execution_count": 10,
   "metadata": {},
   "outputs": [],
   "source": [
    "def clean_data(text):\n",
    "    return ' '.join(re.sub(\"(@[a-zA-Z0-9]+)|([^0-9A-Za-z])|(https://[\\w.]+/[\\w]+)\", \" \", text).split())\n",
    "\n",
    "tweet_df['cleaned_data'] = tweet_df[0].apply(clean_data)"
   ]
  },
  {
   "cell_type": "code",
   "execution_count": 11,
   "metadata": {},
   "outputs": [
    {
     "data": {
      "text/html": [
       "<div>\n",
       "<style scoped>\n",
       "    .dataframe tbody tr th:only-of-type {\n",
       "        vertical-align: middle;\n",
       "    }\n",
       "\n",
       "    .dataframe tbody tr th {\n",
       "        vertical-align: top;\n",
       "    }\n",
       "\n",
       "    .dataframe thead th {\n",
       "        text-align: right;\n",
       "    }\n",
       "</style>\n",
       "<table border=\"1\" class=\"dataframe\">\n",
       "  <thead>\n",
       "    <tr style=\"text-align: right;\">\n",
       "      <th></th>\n",
       "      <th>0</th>\n",
       "      <th>cleaned_data</th>\n",
       "    </tr>\n",
       "  </thead>\n",
       "  <tbody>\n",
       "    <tr>\n",
       "      <th>0</th>\n",
       "      <td>An 88/100 for Geology\\n\\nThis is one of those ...</td>\n",
       "      <td>An 88 100 for Geology This is one of those mom...</td>\n",
       "    </tr>\n",
       "    <tr>\n",
       "      <th>1</th>\n",
       "      <td>@ThunderInvest @Ceecee_Freedmen @_SJPeace_ You...</td>\n",
       "      <td>Freedmen SJPeace You 100 don t have a PhD sir ...</td>\n",
       "    </tr>\n",
       "    <tr>\n",
       "      <th>2</th>\n",
       "      <td>@ScottAdamsSays @Foldinginwards However, if a ...</td>\n",
       "      <td>However if a physical mechanism is involved it...</td>\n",
       "    </tr>\n",
       "    <tr>\n",
       "      <th>3</th>\n",
       "      <td>@anakinsmybf @chaiteacookie YES, BECAUSE IM NO...</td>\n",
       "      <td>YES BECAUSE IM NOT A PSYCHOPATH I MAY BE MENTA...</td>\n",
       "    </tr>\n",
       "    <tr>\n",
       "      <th>4</th>\n",
       "      <td>100 years ago today. Hat tip to SAADA (S. Asia...</td>\n",
       "      <td>100 years ago today Hat tip to SAADA S Asian A...</td>\n",
       "    </tr>\n",
       "  </tbody>\n",
       "</table>\n",
       "</div>"
      ],
      "text/plain": [
       "                                                   0  \\\n",
       "0  An 88/100 for Geology\\n\\nThis is one of those ...   \n",
       "1  @ThunderInvest @Ceecee_Freedmen @_SJPeace_ You...   \n",
       "2  @ScottAdamsSays @Foldinginwards However, if a ...   \n",
       "3  @anakinsmybf @chaiteacookie YES, BECAUSE IM NO...   \n",
       "4  100 years ago today. Hat tip to SAADA (S. Asia...   \n",
       "\n",
       "                                        cleaned_data  \n",
       "0  An 88 100 for Geology This is one of those mom...  \n",
       "1  Freedmen SJPeace You 100 don t have a PhD sir ...  \n",
       "2  However if a physical mechanism is involved it...  \n",
       "3  YES BECAUSE IM NOT A PSYCHOPATH I MAY BE MENTA...  \n",
       "4  100 years ago today Hat tip to SAADA S Asian A...  "
      ]
     },
     "execution_count": 11,
     "metadata": {},
     "output_type": "execute_result"
    }
   ],
   "source": [
    "tweet_df.head()"
   ]
  },
  {
   "cell_type": "code",
   "execution_count": 12,
   "metadata": {},
   "outputs": [],
   "source": [
    "def drop_numbers(list_text):\n",
    "    list_text_new = []\n",
    "    for i in list_text:\n",
    "        if not re.search('\\d', i):\n",
    "            list_text_new.append(i)\n",
    "    return ''.join(list_text_new)\n",
    "\n",
    "tweet_df['cleaned_data'] = tweet_df['cleaned_data'].apply(drop_numbers)"
   ]
  },
  {
   "cell_type": "code",
   "execution_count": 13,
   "metadata": {},
   "outputs": [
    {
     "data": {
      "text/html": [
       "<div>\n",
       "<style scoped>\n",
       "    .dataframe tbody tr th:only-of-type {\n",
       "        vertical-align: middle;\n",
       "    }\n",
       "\n",
       "    .dataframe tbody tr th {\n",
       "        vertical-align: top;\n",
       "    }\n",
       "\n",
       "    .dataframe thead th {\n",
       "        text-align: right;\n",
       "    }\n",
       "</style>\n",
       "<table border=\"1\" class=\"dataframe\">\n",
       "  <thead>\n",
       "    <tr style=\"text-align: right;\">\n",
       "      <th></th>\n",
       "      <th>0</th>\n",
       "      <th>cleaned_data</th>\n",
       "    </tr>\n",
       "  </thead>\n",
       "  <tbody>\n",
       "    <tr>\n",
       "      <th>0</th>\n",
       "      <td>An 88/100 for Geology\\n\\nThis is one of those ...</td>\n",
       "      <td>An   for Geology This is one of those moments ...</td>\n",
       "    </tr>\n",
       "    <tr>\n",
       "      <th>1</th>\n",
       "      <td>@ThunderInvest @Ceecee_Freedmen @_SJPeace_ You...</td>\n",
       "      <td>Freedmen SJPeace You  don t have a PhD sir I c...</td>\n",
       "    </tr>\n",
       "    <tr>\n",
       "      <th>2</th>\n",
       "      <td>@ScottAdamsSays @Foldinginwards However, if a ...</td>\n",
       "      <td>However if a physical mechanism is involved it...</td>\n",
       "    </tr>\n",
       "    <tr>\n",
       "      <th>3</th>\n",
       "      <td>@anakinsmybf @chaiteacookie YES, BECAUSE IM NO...</td>\n",
       "      <td>YES BECAUSE IM NOT A PSYCHOPATH I MAY BE MENTA...</td>\n",
       "    </tr>\n",
       "    <tr>\n",
       "      <th>4</th>\n",
       "      <td>100 years ago today. Hat tip to SAADA (S. Asia...</td>\n",
       "      <td>years ago today Hat tip to SAADA S Asian Amer...</td>\n",
       "    </tr>\n",
       "  </tbody>\n",
       "</table>\n",
       "</div>"
      ],
      "text/plain": [
       "                                                   0  \\\n",
       "0  An 88/100 for Geology\\n\\nThis is one of those ...   \n",
       "1  @ThunderInvest @Ceecee_Freedmen @_SJPeace_ You...   \n",
       "2  @ScottAdamsSays @Foldinginwards However, if a ...   \n",
       "3  @anakinsmybf @chaiteacookie YES, BECAUSE IM NO...   \n",
       "4  100 years ago today. Hat tip to SAADA (S. Asia...   \n",
       "\n",
       "                                        cleaned_data  \n",
       "0  An   for Geology This is one of those moments ...  \n",
       "1  Freedmen SJPeace You  don t have a PhD sir I c...  \n",
       "2  However if a physical mechanism is involved it...  \n",
       "3  YES BECAUSE IM NOT A PSYCHOPATH I MAY BE MENTA...  \n",
       "4   years ago today Hat tip to SAADA S Asian Amer...  "
      ]
     },
     "execution_count": 13,
     "metadata": {},
     "output_type": "execute_result"
    }
   ],
   "source": [
    "tweet_df.head()"
   ]
  },
  {
   "cell_type": "code",
   "execution_count": 14,
   "metadata": {},
   "outputs": [],
   "source": [
    "# changing all the words of the reviews column to lowercase letters\n",
    "def lower_case(text):\n",
    "    text_words = word_tokenize(text)\n",
    "    text_words_lower = [x.lower() for x in text_words]\n",
    "    return ' '.join(text_words_lower)\n",
    "\n",
    "tweet_df['cleaned_data'] = tweet_df['cleaned_data'].apply(lower_case)"
   ]
  },
  {
   "cell_type": "code",
   "execution_count": null,
   "metadata": {},
   "outputs": [],
   "source": []
  },
  {
   "cell_type": "code",
   "execution_count": null,
   "metadata": {},
   "outputs": [],
   "source": []
  },
  {
   "cell_type": "code",
   "execution_count": null,
   "metadata": {},
   "outputs": [],
   "source": []
  },
  {
   "cell_type": "code",
   "execution_count": null,
   "metadata": {},
   "outputs": [],
   "source": []
  }
 ],
 "metadata": {
  "kernelspec": {
   "display_name": "pythonProject2",
   "language": "python",
   "name": "python3"
  },
  "language_info": {
   "codemirror_mode": {
    "name": "ipython",
    "version": 3
   },
   "file_extension": ".py",
   "mimetype": "text/x-python",
   "name": "python",
   "nbconvert_exporter": "python",
   "pygments_lexer": "ipython3",
   "version": "3.10.0"
  },
  "orig_nbformat": 4,
  "vscode": {
   "interpreter": {
    "hash": "1627555b460de1869c7ac726cabc7e7f62da1a0337e6a09194b83c6e47a50c4e"
   }
  }
 },
 "nbformat": 4,
 "nbformat_minor": 2
}
